{
 "cells": [
  {
   "cell_type": "code",
   "execution_count": 1,
   "metadata": {},
   "outputs": [
    {
     "name": "stdout",
     "output_type": "stream",
     "text": [
      "Requirement already satisfied: tweepy in c:\\users\\niharika\\anaconda3\\lib\\site-packages (3.10.0)\n",
      "Requirement already satisfied: requests-oauthlib>=0.7.0 in c:\\users\\niharika\\anaconda3\\lib\\site-packages (from tweepy) (1.3.0)\n",
      "Requirement already satisfied: requests[socks]>=2.11.1 in c:\\users\\niharika\\anaconda3\\lib\\site-packages (from tweepy) (2.18.4)\n",
      "Requirement already satisfied: six>=1.10.0 in c:\\users\\niharika\\anaconda3\\lib\\site-packages (from tweepy) (1.15.0)\n",
      "Requirement already satisfied: oauthlib>=3.0.0 in c:\\users\\niharika\\anaconda3\\lib\\site-packages (from requests-oauthlib>=0.7.0->tweepy) (3.1.1)\n",
      "Requirement already satisfied: chardet<3.1.0,>=3.0.2 in c:\\users\\niharika\\anaconda3\\lib\\site-packages (from requests[socks]>=2.11.1->tweepy) (3.0.4)\n",
      "Requirement already satisfied: urllib3<1.23,>=1.21.1 in c:\\users\\niharika\\anaconda3\\lib\\site-packages (from requests[socks]>=2.11.1->tweepy) (1.22)\n",
      "Requirement already satisfied: certifi>=2017.4.17 in c:\\users\\niharika\\anaconda3\\lib\\site-packages (from requests[socks]>=2.11.1->tweepy) (2020.6.20)\n",
      "Requirement already satisfied: idna<2.7,>=2.5 in c:\\users\\niharika\\anaconda3\\lib\\site-packages (from requests[socks]>=2.11.1->tweepy) (2.6)\n",
      "Requirement already satisfied: PySocks!=1.5.7,>=1.5.6; extra == \"socks\" in c:\\users\\niharika\\anaconda3\\lib\\site-packages (from requests[socks]>=2.11.1->tweepy) (1.7.1)\n",
      "Note: you may need to restart the kernel to use updated packages.\n"
     ]
    }
   ],
   "source": [
    "pip install tweepy"
   ]
  },
  {
   "cell_type": "code",
   "execution_count": 24,
   "metadata": {},
   "outputs": [],
   "source": [
    "import tweepy \n",
    "import json\n",
    "import csv\n",
    "import tweepy\n",
    "import re\n",
    "import pandas as pd"
   ]
  },
  {
   "cell_type": "code",
   "execution_count": 25,
   "metadata": {},
   "outputs": [],
   "source": [
    "def extract_trends(woeid, threshold):\n",
    "    all_trends = api.trends_place(id = woeid)\n",
    "    dataframe = pd.DataFrame(columns = ['Trend', 'Volume'], index = None)\n",
    "    for i in range(len(all_trends[0]['trends'])):\n",
    "        trend = all_trends[0]['trends'][i]['name']\n",
    "        volume = all_trends[0]['trends'][i]['tweet_volume']\n",
    "        try:\n",
    "            if volume > threshold:\n",
    "                new_row = {'Trend' : trend, 'Volume' : volume}\n",
    "                dataframe = dataframe.append(new_row, ignore_index = True)\n",
    "            else:\n",
    "                pass\n",
    "        except:\n",
    "            pass\n",
    "    dataframe = dataframe.set_index('Trend')\n",
    "    dataframe = dataframe.sort_values(by = 'Volume', ascending = False)\n",
    "    return dataframe"
   ]
  },
  {
   "cell_type": "code",
   "execution_count": 29,
   "metadata": {},
   "outputs": [],
   "source": [
    "consumer_key = \"zuBhH8IkALoNiLdADzKaul1CK\" \n",
    "consumer_secret = \"MZsvdECWBQdTkspYjT6jnGaIA5T7ZHBocIGfZKRv3bSvUN8seg\" \n",
    "access_token = \"1243112494324797440-rkqzDThklcIPxSRknNNEb5X7IGHwR5\" \n",
    "access_token_secret = \"PrYTMvejpmMfVIv3dBusO0sy4CxQtRS7DDpxFIHcYa3B5\"\n",
    "    \n",
    "auth = tweepy.OAuthHandler(consumer_key, consumer_secret)\n",
    "auth.set_access_token(access_token, access_token_secret)\n",
    "api = tweepy.API(auth, wait_on_rate_limit = True)"
   ]
  },
  {
   "cell_type": "code",
   "execution_count": 31,
   "metadata": {},
   "outputs": [],
   "source": [
    "trends=extract_trends(23424848,2000)\n"
   ]
  },
  {
   "cell_type": "code",
   "execution_count": 34,
   "metadata": {},
   "outputs": [
    {
     "name": "stdout",
     "output_type": "stream",
     "text": [
      "                            Volume\n",
      "Trend                             \n",
      "Argentina                   422468\n",
      "Luke                        148540\n",
      "El Salvador                 105084\n",
      "#500DeathsAtFarmersProtest   89222\n",
      "#RajputBandaSinghBahadur     86314\n",
      "WE LOVE YOU JIMIN            74519\n",
      "SC Monitored CBI 4 SSR       60109\n",
      "Pogba                        54114\n",
      "Clippers                     50864\n",
      "#2059AGTA_JOINING            45146\n",
      "#धरती_आबा_बिरसा_मुंडा        43802\n",
      "#MaanaaduFirstSingle         43688\n",
      "#BirsaMunda                  38159\n",
      "#DisasterRelief              27246\n",
      "Agra                         24009\n",
      "#cancelMGUexams              22050\n",
      "#wednesdaythought            19447\n",
      "Hakimi                       18669\n",
      "#ब्राह्मण_बन्दा_बैरागी       17586\n",
      "श्री गणेश                    17355\n",
      "#UP_सरकार_वेंटिलेटर_पर       16107\n",
      "#17YearsForSamba             15378\n",
      "महान स्वतंत्रता सेनानी       14947\n",
      "महान क्रांतिकारी             10931\n",
      "#BanDhruvRathee              10922\n"
     ]
    }
   ],
   "source": [
    "print(trends)"
   ]
  },
  {
   "cell_type": "code",
   "execution_count": 35,
   "metadata": {},
   "outputs": [
    {
     "data": {
      "text/plain": [
       "pandas.core.frame.DataFrame"
      ]
     },
     "execution_count": 35,
     "metadata": {},
     "output_type": "execute_result"
    }
   ],
   "source": [
    "type(trends)"
   ]
  },
  {
   "cell_type": "code",
   "execution_count": null,
   "metadata": {},
   "outputs": [],
   "source": []
  }
 ],
 "metadata": {
  "kernelspec": {
   "display_name": "Python 3",
   "language": "python",
   "name": "python3"
  },
  "language_info": {
   "codemirror_mode": {
    "name": "ipython",
    "version": 3
   },
   "file_extension": ".py",
   "mimetype": "text/x-python",
   "name": "python",
   "nbconvert_exporter": "python",
   "pygments_lexer": "ipython3",
   "version": "3.8.5"
  }
 },
 "nbformat": 4,
 "nbformat_minor": 4
}
